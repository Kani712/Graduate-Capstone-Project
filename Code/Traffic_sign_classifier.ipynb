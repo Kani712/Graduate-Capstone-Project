{
 "cells": [
  {
   "cell_type": "markdown",
   "metadata": {},
   "source": [
    "# Step 1 : Load The Data \n",
    "This dataset contains the following three pickle files:\n",
    "\n",
    "* train.p: The training set.\n",
    "* valid.p: The validation set.\n",
    "* test.p: The testing set."
   ]
  },
  {
   "cell_type": "code",
   "execution_count": null,
   "metadata": {},
   "outputs": [],
   "source": [
    "# Load pickled data\n",
    "import pickle\n",
    "import os\n",
    "\n",
    "training_data = 'GTRSB/train.p'\n",
    "validation_data = 'GTRSB/valid.p'\n",
    "testing_data = 'GTRSB/test.p'\n",
    "\n",
    "with open(training_data, mode='rb') as f:\n",
    "    train = pickle.load(f)\n",
    "with open(validation_data, mode='rb') as f:\n",
    "    valid = pickle.load(f)\n",
    "with open(testing_data, mode='rb') as f:\n",
    "    test = pickle.load(f)\n",
    "    \n",
    "X_train, y_train = train['features'], train['labels']\n",
    "X_valid, y_valid = valid['features'], valid['labels']\n",
    "X_test, y_test = test['features'], test['labels']"
   ]
  },
  {
   "cell_type": "markdown",
   "metadata": {},
   "source": [
    "# Step 1: Dataset Summary & Exploration\n",
    "\n"
   ]
  },
  {
   "cell_type": "code",
   "execution_count": 59,
   "metadata": {},
   "outputs": [
    {
     "name": "stdout",
     "output_type": "stream",
     "text": [
      "Number of classes: 43\n",
      "\n",
      "   0: Speed limit (20km/h)\n",
      "   1: Speed limit (30km/h)\n",
      "   2: Speed limit (50km/h)\n",
      "   3: Speed limit (60km/h)\n",
      "   4: Speed limit (70km/h)\n",
      "   5: Speed limit (80km/h)\n",
      "   6: End of speed limit (80km/h)\n",
      "   7: Speed limit (100km/h)\n",
      "   8: Speed limit (120km/h)\n",
      "   9: No passing\n",
      "  10: No passing for vehicles over 3.5 metric tons\n",
      "  11: Right-of-way at the next intersection\n",
      "  12: Priority road\n",
      "  13: Yield\n",
      "  14: Stop\n",
      "  15: No vehicles\n",
      "  16: Vehicles over 3.5 metric tons prohibited\n",
      "  17: No entry\n",
      "  18: General caution\n",
      "  19: Dangerous curve to the left\n",
      "  20: Dangerous curve to the right\n",
      "  21: Double curve\n",
      "  22: Bumpy road\n",
      "  23: Slippery road\n",
      "  24: Road narrows on the right\n",
      "  25: Road work\n",
      "  26: Traffic signals\n",
      "  27: Pedestrians\n",
      "  28: Children crossing\n",
      "  29: Bicycles crossing\n",
      "  30: Beware of ice/snow\n",
      "  31: Wild animals crossing\n",
      "  32: End of all speed and passing limits\n",
      "  33: Turn right ahead\n",
      "  34: Turn left ahead\n",
      "  35: Ahead only\n",
      "  36: Go straight or right\n",
      "  37: Go straight or left\n",
      "  38: Keep right\n",
      "  39: Keep left\n",
      "  40: Roundabout mandatory\n",
      "  41: End of no passing\n",
      "  42: End of no passing by vehicles over 3.5 metric tons\n"
     ]
    }
   ],
   "source": [
    "# Mapping ClassID to traffic sign names\n",
    "import csv\n",
    "import numpy as np\n",
    "\n",
    "# load class-ids and sign names from csv file\n",
    "def load_signnames_from_csv(filename):\n",
    "    rows = []\n",
    "    with open(filename) as csvfile:\n",
    "        reader = csv.reader(csvfile, delimiter=',')\n",
    "        next(reader)  # skip header\n",
    "        for row in reader:\n",
    "            class_id = row[0]\n",
    "            sign_name = row[1]\n",
    "            rows.append((class_id, sign_name))\n",
    "\n",
    "    return np.array(rows)\n",
    "\n",
    "\n",
    "sign_names = load_signnames_from_csv('signnames.csv')\n",
    "\n",
    "for sign in sign_names:\n",
    "    print('{:4d}: {}'.format(int(sign[0]), sign[1]))"
   ]
  },
  {
   "cell_type": "code",
   "execution_count": null,
   "metadata": {},
   "outputs": [],
   "source": [
    "\n",
    "# Listing the number of training, validation and testing samples using numpy methods\n",
    "# Number of classes in the dataset is also listed\n",
    "\n",
    "import numpy as np\n",
    "\n",
    "# Number of training examples\n",
    "n_train = len(X_train)\n",
    "height = len(X_train[1])\n",
    "width = len(X_train[2])\n",
    "channels = len(X_train[3])\n",
    "\n",
    "# Number of validation examples\n",
    "n_validation = len(X_valid)\n",
    "\n",
    "# Number of testing examples.\n",
    "n_test = len(X_test)\n",
    "\n",
    "# shape of an traffic sign image\n",
    "image_shape = X_train[0].shape\n",
    "\n",
    "# Number of unique classes/labels in the dataset.\n",
    "n_classes = len(np.unique(y_train))\n",
    "\n",
    "print(\"1. Number of training examples =\", n_train)\n",
    "print(\"2. Number of validation examples =\", n_validation)\n",
    "print(\"3. Number of testing examples =\", n_test)\n",
    "print(\"4. height =\", height)\n",
    "print(\"5. width =\", width)\n",
    "print(\"6. channels =\",channels)\n",
    "print(\"7. Image data shape =\", image_shape)\n",
    "print(\"8. Number of classes =\",  n_classes)\n"
   ]
  },
  {
   "cell_type": "markdown",
   "metadata": {},
   "source": [
    "# Dataset Visualization\n",
    "Examinig how each class is represented in the dataset. This is done by histogram of images in each class"
   ]
  },
  {
   "cell_type": "code",
   "execution_count": null,
   "metadata": {},
   "outputs": [],
   "source": []
  }
 ],
 "metadata": {
  "kernelspec": {
   "display_name": "Python 3",
   "language": "python",
   "name": "python3"
  },
  "language_info": {
   "codemirror_mode": {
    "name": "ipython",
    "version": 3
   },
   "file_extension": ".py",
   "mimetype": "text/x-python",
   "name": "python",
   "nbconvert_exporter": "python",
   "pygments_lexer": "ipython3",
   "version": "3.8.5"
  }
 },
 "nbformat": 4,
 "nbformat_minor": 4
}
